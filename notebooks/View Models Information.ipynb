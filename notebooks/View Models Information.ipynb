{
 "cells": [
  {
   "cell_type": "code",
   "execution_count": 1,
   "metadata": {},
   "outputs": [],
   "source": [
    "import pandas as pd"
   ]
  },
  {
   "cell_type": "markdown",
   "metadata": {},
   "source": [
    "# View the models"
   ]
  },
  {
   "cell_type": "code",
   "execution_count": 3,
   "metadata": {},
   "outputs": [
    {
     "data": {
      "text/html": [
       "<div>\n",
       "<style scoped>\n",
       "    .dataframe tbody tr th:only-of-type {\n",
       "        vertical-align: middle;\n",
       "    }\n",
       "\n",
       "    .dataframe tbody tr th {\n",
       "        vertical-align: top;\n",
       "    }\n",
       "\n",
       "    .dataframe thead th {\n",
       "        text-align: right;\n",
       "    }\n",
       "</style>\n",
       "<table border=\"1\" class=\"dataframe\">\n",
       "  <thead>\n",
       "    <tr style=\"text-align: right;\">\n",
       "      <th></th>\n",
       "      <th>model_name</th>\n",
       "      <th>accuracy</th>\n",
       "      <th>f1</th>\n",
       "      <th>precision</th>\n",
       "      <th>recall</th>\n",
       "      <th>location_model</th>\n",
       "    </tr>\n",
       "  </thead>\n",
       "  <tbody>\n",
       "    <tr>\n",
       "      <th>0</th>\n",
       "      <td>sgdclassifier_downsampling</td>\n",
       "      <td>0.837669</td>\n",
       "      <td>0.837797</td>\n",
       "      <td>0.846527</td>\n",
       "      <td>0.829246</td>\n",
       "      <td>C:\\Users\\C18244A\\Documents\\Quora-Insincere-Que...</td>\n",
       "    </tr>\n",
       "    <tr>\n",
       "      <th>1</th>\n",
       "      <td>linearSVC_downsampling</td>\n",
       "      <td>0.880287</td>\n",
       "      <td>0.881594</td>\n",
       "      <td>0.881659</td>\n",
       "      <td>0.881529</td>\n",
       "      <td>C:\\Users\\C18244A\\Documents\\Quora-Insincere-Que...</td>\n",
       "    </tr>\n",
       "    <tr>\n",
       "      <th>2</th>\n",
       "      <td>logisticregression_downsampling</td>\n",
       "      <td>0.880733</td>\n",
       "      <td>0.881902</td>\n",
       "      <td>0.882962</td>\n",
       "      <td>0.880844</td>\n",
       "      <td>C:\\Users\\C18244A\\Documents\\Quora-Insincere-Que...</td>\n",
       "    </tr>\n",
       "    <tr>\n",
       "      <th>3</th>\n",
       "      <td>decisiontree_downsampling</td>\n",
       "      <td>0.777478</td>\n",
       "      <td>0.758611</td>\n",
       "      <td>0.839952</td>\n",
       "      <td>0.691634</td>\n",
       "      <td>C:\\Users\\C18244A\\Documents\\Quora-Insincere-Que...</td>\n",
       "    </tr>\n",
       "  </tbody>\n",
       "</table>\n",
       "</div>"
      ],
      "text/plain": [
       "                        model_name  accuracy        f1  precision    recall  \\\n",
       "0       sgdclassifier_downsampling  0.837669  0.837797   0.846527  0.829246   \n",
       "1           linearSVC_downsampling  0.880287  0.881594   0.881659  0.881529   \n",
       "2  logisticregression_downsampling  0.880733  0.881902   0.882962  0.880844   \n",
       "3        decisiontree_downsampling  0.777478  0.758611   0.839952  0.691634   \n",
       "\n",
       "                                      location_model  \n",
       "0  C:\\Users\\C18244A\\Documents\\Quora-Insincere-Que...  \n",
       "1  C:\\Users\\C18244A\\Documents\\Quora-Insincere-Que...  \n",
       "2  C:\\Users\\C18244A\\Documents\\Quora-Insincere-Que...  \n",
       "3  C:\\Users\\C18244A\\Documents\\Quora-Insincere-Que...  "
      ]
     },
     "execution_count": 3,
     "metadata": {},
     "output_type": "execute_result"
    }
   ],
   "source": [
    "pd.read_csv(r\"../models/log_models.csv\")"
   ]
  },
  {
   "cell_type": "code",
   "execution_count": null,
   "metadata": {},
   "outputs": [],
   "source": []
  }
 ],
 "metadata": {
  "kernelspec": {
   "display_name": "Python 3",
   "language": "python",
   "name": "python3"
  },
  "language_info": {
   "codemirror_mode": {
    "name": "ipython",
    "version": 3
   },
   "file_extension": ".py",
   "mimetype": "text/x-python",
   "name": "python",
   "nbconvert_exporter": "python",
   "pygments_lexer": "ipython3",
   "version": "3.7.0"
  }
 },
 "nbformat": 4,
 "nbformat_minor": 2
}
